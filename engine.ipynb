{
 "cells": [
  {
   "cell_type": "markdown",
   "metadata": {},
   "source": [
    "### Import key libraries and feature data"
   ]
  },
  {
   "cell_type": "code",
   "execution_count": 124,
   "metadata": {},
   "outputs": [],
   "source": [
    "import numpy as np\n",
    "import pandas as pd\n",
    "import csv\n",
    "from string import punctuation, digits\n",
    "import random\n",
    "data = np.genfromtxt('data.csv',delimiter=',', skip_header=1, usecols=(1,2,3,4,5,6,7,8,9,10,11,12,13,14))\n",
    "#print(data)"
   ]
  },
  {
   "cell_type": "markdown",
   "metadata": {},
   "source": [
    "### Initialization of perceptron algorithm"
   ]
  },
  {
   "cell_type": "code",
   "execution_count": 117,
   "metadata": {},
   "outputs": [],
   "source": [
    "def get_order(n_samples, t):\n",
    "    '''randomize input order'''\n",
    "    random.seed(t)\n",
    "    indices = list(range(n_samples))\n",
    "    random.shuffle(indices)\n",
    "    return indices\n",
    "\n",
    "def perceptron_single_step_update(feature_vector, label, current_theta, current_theta_0):\n",
    "    '''perceptron single update'''\n",
    "    if label * (np.dot(current_theta, feature_vector) + current_theta_0) <= 1e-7:\n",
    "        current_theta += label * feature_vector\n",
    "        current_theta_0 += label\n",
    "    return (current_theta, current_theta_0)\n",
    "\n",
    "def perceptron(feature_matrix, labels, T):\n",
    "    '''perceptron algorithm in T iterations'''\n",
    "    (nsamples, nfeatures) = feature_matrix.shape\n",
    "    theta = np.zeros(nfeatures)\n",
    "    theta_0 = 0.0\n",
    "    for t in range(T):\n",
    "        order = get_order(nsamples, t + 1)\n",
    "        for i in order:\n",
    "            theta, theta_0 = perceptron_single_step_update(feature_matrix[i], labels[i], theta, theta_0)\n",
    "    return (theta, theta_0)\n",
    "\n",
    "def prediction(new_feature_vector, theta, theta_0):\n",
    "    \n",
    "    temp = np.dot(new_feature_vector, theta) + theta_0\n",
    "    if temp >= 0:\n",
    "        return 1\n",
    "    else:\n",
    "        return -1"
   ]
  },
  {
   "cell_type": "markdown",
   "metadata": {},
   "source": [
    "### Initialization of actual test"
   ]
  },
  {
   "cell_type": "code",
   "execution_count": 125,
   "metadata": {},
   "outputs": [],
   "source": [
    "consumer = np.genfromtxt('customer.csv', delimiter=',', skip_header=1, usecols=(1, 2, 3))\n",
    "consumer = np.transpose(consumer)\n",
    "consumer1 = consumer[0] #consumer1 data\n",
    "consumer2 = consumer[1] #consumer2 data\n",
    "consumer3 = consumer[2] #consumer3 data\n",
    "#print(consumer)"
   ]
  },
  {
   "cell_type": "markdown",
   "metadata": {},
   "source": [
    "### How attractive is a different business??"
   ]
  },
  {
   "cell_type": "code",
   "execution_count": 130,
   "metadata": {},
   "outputs": [
    {
     "name": "stdout",
     "output_type": "stream",
     "text": [
      "[-4.  7. -5. -4.  2. -2.  0.  1.  4.  2. -6. -2.  6.  3.] 3.0\n",
      "1 -1\n"
     ]
    }
   ],
   "source": [
    "'''gardening vs amusement park'''\n",
    "new_business = np.genfromtxt('new_business.csv',delimiter=',', skip_header=1, usecols=(1,2,3,4,5,6,7,8,9,10,11,12,13,14))\n",
    "garden_feature = new_business[0]\n",
    "park_feature = new_business[1]\n",
    "barber = new_business[2]\n",
    "theta, theta_0 = perceptron(data, consumer3, 40)\n",
    "print(theta, theta_0)\n",
    "pred1 = prediction(garden_feature, theta, theta_0)\n",
    "pred2 = prediction(barber, theta, theta_0)\n",
    "print(pred1, pred2)"
   ]
  },
  {
   "cell_type": "markdown",
   "metadata": {},
   "source": [
    "### To-Do list\n",
    "1. perceptron is linear classifier, perhaps find more appropriate algorithms\n",
    "2. features weigh the same, perhaps use numerical weights instead of binary weights\n",
    "3. find useful categories. Some categories might work than others\n",
    "4. Instead of visit or not visit, we could use how much money is likely to spend\n",
    "5. data visualization of features and connection\n",
    "6. automate data generation process\n",
    "7. find insights"
   ]
  }
 ],
 "metadata": {
  "kernelspec": {
   "display_name": "Python 3",
   "language": "python",
   "name": "python3"
  },
  "language_info": {
   "codemirror_mode": {
    "name": "ipython",
    "version": 3
   },
   "file_extension": ".py",
   "mimetype": "text/x-python",
   "name": "python",
   "nbconvert_exporter": "python",
   "pygments_lexer": "ipython3",
   "version": "3.8.5"
  }
 },
 "nbformat": 4,
 "nbformat_minor": 4
}
