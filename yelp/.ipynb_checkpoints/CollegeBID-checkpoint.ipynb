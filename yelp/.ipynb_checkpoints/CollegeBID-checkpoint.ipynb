{
 "cells": [
  {
   "cell_type": "markdown",
   "metadata": {},
   "source": [
    "## Data Analysis specific to College BID, San Diego, CA"
   ]
  },
  {
   "cell_type": "code",
   "execution_count": 33,
   "metadata": {},
   "outputs": [],
   "source": [
    "# Yelp API\n",
    "#Business Search        URL -- 'https://api.yelp.com/v3/businesses/search'\n",
    "#Business Match         URL -- 'https://api.yelp.com/v3/businesses/matches'\n",
    "#Phone Search           URL -- 'https://api.yelp.com/v3/businesses/search/phone'\n",
    "#Business Details       URL -- 'https://api.yelp.com/v3/businesses/{id}'\n",
    "#Business Reviews       URL -- 'https://api.yelp.com/v3/businesses/{id}/reviews'"
   ]
  },
  {
   "cell_type": "markdown",
   "metadata": {},
   "source": [
    "### Initialization"
   ]
  },
  {
   "cell_type": "code",
   "execution_count": 10,
   "metadata": {},
   "outputs": [],
   "source": [
    "import requests\n",
    "import folium\n",
    "import json\n",
    "from YelpAPI import get_my_key\n",
    "from folium.plugins import MarkerCluster\n",
    "import pandas as pd\n",
    "import numpy as np\n",
    "import matplotlib.pyplot as plt"
   ]
  },
  {
   "cell_type": "code",
   "execution_count": 35,
   "metadata": {},
   "outputs": [],
   "source": [
    "API_KEY = get_my_key()\n",
    "ENDPOINT = 'https://api.yelp.com/v3/businesses/search'\n",
    "HEADERS = {'Authorization': 'bearer %s' % API_KEY}\n",
    "# Define the parameters\n",
    "PARAMETERS = {'limit': 50,\n",
    "              'offset': 0,\n",
    "              'latitude': 32.762717,\n",
    "             'longitude': -117.067209,\n",
    "             'radius': 1500}\n",
    "# Make a request to Yelp API\n",
    "response = requests.get(url = ENDPOINT, params= PARAMETERS, headers= HEADERS)\n",
    "business_data = response.json()"
   ]
  },
  {
   "cell_type": "code",
   "execution_count": 36,
   "metadata": {},
   "outputs": [],
   "source": [
    "yelpdata = {}\n",
    "business_data = response.json()\n",
    "for biz in business_data['businesses']:\n",
    "    \n",
    "    ID = biz['id']\n",
    "    rating = biz['rating']\n",
    "    name = biz['name']\n",
    "    coordinates = biz['coordinates']\n",
    "    yelpdata[ID] = {'rating': rating,\n",
    "                   'name': name,\n",
    "                   'coordinates': coordinates}\n",
    "with open('collegeBID.json', 'w') as f:\n",
    "    json.dump(yelpdata, f, indent=2)"
   ]
  },
  {
   "cell_type": "markdown",
   "metadata": {},
   "source": [
    "### Scale Up"
   ]
  },
  {
   "cell_type": "code",
   "execution_count": 37,
   "metadata": {},
   "outputs": [],
   "source": [
    "API_KEY = get_my_key()\n",
    "ENDPOINT = 'https://api.yelp.com/v3/businesses/search'\n",
    "HEADERS = {'Authorization': 'bearer %s' % API_KEY}\n",
    "    \n",
    "for i in range(10):\n",
    "    PARAMETERS = {'limit': 50,\n",
    "                  'offset': 50 + i * 50,\n",
    "                  'latitude': 32.762717,\n",
    "                 'longitude': -117.067209,\n",
    "                 'radius': 1500}\n",
    "    response = requests.get(url = ENDPOINT, params= PARAMETERS, headers= HEADERS)\n",
    "    g = open('collegeBID.json')\n",
    "    yelpdata = json.load(g)\n",
    "    business_data = response.json()\n",
    "    for biz in business_data['businesses']:\n",
    "        ID = biz['id']\n",
    "        rating = biz['rating']\n",
    "        name = biz['name']\n",
    "        coordinates = biz['coordinates']\n",
    "        yelpdata[ID] = {'rating': rating,\n",
    "                       'name': name,\n",
    "                       'coordinates': coordinates}\n",
    "    with open('collegeBID.json', 'w') as f:\n",
    "        json.dump(yelpdata, f, indent=2)"
   ]
  },
  {
   "cell_type": "markdown",
   "metadata": {},
   "source": [
    "### Location Visualization with Folium"
   ]
  },
  {
   "cell_type": "code",
   "execution_count": 38,
   "metadata": {},
   "outputs": [],
   "source": [
    "m = folium.Map(location=[32.762717, -117.067209], zoom_start=12, tiles=\"Stamen Terrain\")\n",
    "folium.Marker(\n",
    "    location=[32.762717, -117.067209],\n",
    "    popup='College BID',\n",
    "    icon=folium.Icon(color='darkpurple'),\n",
    "    ).add_to(m)\n",
    "top = folium.FeatureGroup(name='Top Rating', show=False)\n",
    "m.add_child(top)\n",
    "\n",
    "API_KEY = get_my_key()\n",
    "g = open('collegeBID.json')\n",
    "yelpdata = json.load(g)\n",
    "id_list = list(yelpdata.keys())\n",
    "for i in range(len(id_list) -1):\n",
    "    biz = yelpdata[id_list[i]]\n",
    "    name = biz['name']\n",
    "    la = biz['coordinates']['latitude']\n",
    "    lon = biz['coordinates']['longitude']\n",
    "    if (la == None or lon == None):\n",
    "        continue\n",
    "    rating = biz['rating']\n",
    "    if rating > 4.7:\n",
    "        col = 'darkgreen'\n",
    "    elif rating > 4.2:\n",
    "        col = 'green'\n",
    "    elif rating > 3.7:\n",
    "        col = 'orange'\n",
    "    elif rating > 3.2:\n",
    "        col = 'lightred'\n",
    "    else:\n",
    "        col = 'red'\n",
    "    folium.Marker(\n",
    "    location=[la, lon],\n",
    "    popup=name,\n",
    "    icon=folium.Icon(color=col),\n",
    "    ).add_to(m)\n",
    "    \n",
    "m.save(\"collegeBID.html\")"
   ]
  },
  {
   "cell_type": "markdown",
   "metadata": {},
   "source": [
    "## Cross Match with Business Dataset"
   ]
  },
  {
   "cell_type": "code",
   "execution_count": 13,
   "metadata": {},
   "outputs": [],
   "source": [
    "import pandas as pd\n",
    "import numpy as np\n",
    "import folium\n",
    "#def levenshtein_ratio_and_distance(s, t, ratio_calc = False):\n",
    "def fuzMatch(s, t, ratio_calc = False):\n",
    "    \"\"\" levenshtein_ratio_and_distance:\n",
    "        Calculates levenshtein distance between two strings.\n",
    "        If ratio_calc = True, the function computes the\n",
    "        levenshtein distance ratio of similarity between two strings\n",
    "        For all i and j, distance[i,j] will contain the Levenshtein\n",
    "        distance between the first i characters of s and the\n",
    "        first j characters of t\n",
    "    \"\"\"\n",
    "    # Initialize matrix of zeros\n",
    "    rows = len(s)+1\n",
    "    cols = len(t)+1\n",
    "    distance = np.zeros((rows,cols),dtype = int)\n",
    "\n",
    "    # Populate matrix of zeros with the indeces of each character of both strings\n",
    "    for i in range(1, rows):\n",
    "        for k in range(1,cols):\n",
    "            distance[i][0] = i\n",
    "            distance[0][k] = k\n",
    "\n",
    "    # Iterate over the matrix to compute the cost of deletions,insertions and/or substitutions    \n",
    "    for col in range(1, cols):\n",
    "        for row in range(1, rows):\n",
    "            if s[row-1] == t[col-1]:\n",
    "                cost = 0 # If the characters are the same in the two strings in a given position [i,j] then the cost is 0\n",
    "            else:\n",
    "                # In order to align the results with those of the Python Levenshtein package, if we choose to calculate the ratio\n",
    "                # the cost of a substitution is 2. If we calculate just distance, then the cost of a substitution is 1.\n",
    "                if ratio_calc == True:\n",
    "                    cost = 2\n",
    "                else:\n",
    "                    cost = 1\n",
    "            distance[row][col] = min(distance[row-1][col] + 1,      # Cost of deletions\n",
    "                                 distance[row][col-1] + 1,          # Cost of insertions\n",
    "                                 distance[row-1][col-1] + cost)     # Cost of substitutions\n",
    "            \n",
    "    Ratio = ((len(s)+len(t)) - distance[row][col]) / (len(s)+len(t))\n",
    "    return Ratio\n",
    "\n",
    "df = pd.read_excel('year.xlsx', dtype=\"string\")\n",
    "nameSet = df['Business Name']\n",
    "yearSet = df['Year']\n",
    "employeeSet = df['Employees']\n",
    "yearSet = list(map(int, yearSet))\n",
    "employeeSet = list(map(int, employeeSet))"
   ]
  },
  {
   "cell_type": "code",
   "execution_count": 14,
   "metadata": {},
   "outputs": [],
   "source": [
    "ratingP = []\n",
    "yearP = []\n",
    "employeeP = []\n",
    "g = open('collegeBID.json')\n",
    "yelpdata = json.load(g)\n",
    "id_list = list(yelpdata.keys())\n",
    "for i in range(len(id_list) -1):\n",
    "    biz = yelpdata[id_list[i]]\n",
    "    name = biz['name']\n",
    "    rating = biz['rating']\n",
    "    for j in range(len(nameSet) - 1):\n",
    "        if fuzMatch(nameSet[j], name) > 0.6:\n",
    "            ratingP.append(rating)\n",
    "            yearP.append(yearSet[j])\n",
    "            employeeP.append(employeeSet[j])\n",
    "            break\n",
    "\n",
    "with open('ratingP.json', 'w') as f:\n",
    "    json.dump(ratingP, f, indent=2)\n",
    "with open('yearP.json', 'w') as f:\n",
    "    json.dump(yearP, f, indent=2)\n",
    "with open('employeeP.json', 'w') as f:\n",
    "    json.dump(employeeP, f, indent=2)"
   ]
  },
  {
   "cell_type": "markdown",
   "metadata": {},
   "source": [
    "## Rating vs. Years in business"
   ]
  },
  {
   "cell_type": "code",
   "execution_count": 15,
   "metadata": {},
   "outputs": [
    {
     "data": {
      "image/png": "[encoded data removed]",
      "text/plain": [
       "<Figure size 432x288 with 1 Axes>"
      ]
     },
     "metadata": {
      "needs_background": "light"
     },
     "output_type": "display_data"
    }
   ],
   "source": [
    "g = open('ratingP.json')\n",
    "rating = list(json.load(g))\n",
    "g = open('yearP.json')\n",
    "yearP = list(json.load(g))\n",
    "\n",
    "plt.scatter(yearP, ratingP, c='r')\n",
    "plt.xlabel('#Years in Business')\n",
    "plt.ylabel('Yelp Rating')\n",
    "plt.title('#Years in business Vs. Yelp Rating')\n",
    "plt.show()"
   ]
  },
  {
   "cell_type": "markdown",
   "metadata": {},
   "source": [
    "## Rating vs. Employee Numbers"
   ]
  },
  {
   "cell_type": "code",
   "execution_count": 17,
   "metadata": {},
   "outputs": [
    {
     "data": {
      "image/png": "[encoded data removed]",
      "text/plain": [
       "<Figure size 432x288 with 1 Axes>"
      ]
     },
     "metadata": {
      "needs_background": "light"
     },
     "output_type": "display_data"
    }
   ],
   "source": [
    "g = open('ratingP.json')\n",
    "rating = list(json.load(g))\n",
    "g = open('employeeP.json')\n",
    "yearP = list(json.load(g))\n",
    "\n",
    "plt.scatter(employeeP, ratingP, c='r')\n",
    "plt.xlabel('#Employees')\n",
    "plt.ylabel('Yelp Rating')\n",
    "plt.title('#Employees Vs. Yelp Rating')\n",
    "plt.show()"
   ]
  },
  {
   "cell_type": "code",
   "execution_count": 45,
   "metadata": {},
   "outputs": [],
   "source": [
    "m = folium.Map(location=[32.762717, -117.067209], zoom_start=12, tiles=\"Stamen Terrain\")\n",
    "folium.Marker(\n",
    "    location=[32.762717, -117.067209],\n",
    "    popup='College BID',\n",
    "    icon=folium.Icon(color='darkpurple'),\n",
    "    ).add_to(m)\n",
    "top = folium.FeatureGroup(name='Top Rating', show=False)\n",
    "m.add_child(top)\n",
    "\n",
    "\n",
    "g = open('collegeBID.json')\n",
    "yelpdata = json.load(g)\n",
    "id_list = list(yelpdata.keys())\n",
    "for i in range(len(id_list) -1):\n",
    "    biz = yelpdata[id_list[i]]\n",
    "    name = biz['name']\n",
    "    la = biz['coordinates']['latitude']\n",
    "    lon = biz['coordinates']['longitude']\n",
    "    counter = 0\n",
    "    for entry in nameSet:\n",
    "        if fuzMatch(entry, name) > 0.6:\n",
    "            counter += 1\n",
    "    if counter > 0:\n",
    "        col = 'green'\n",
    "    else:\n",
    "        col = 'gray'\n",
    "        \n",
    "    folium.Marker(\n",
    "    location=[la, lon],\n",
    "    popup=name,\n",
    "    icon=folium.Icon(color=col),\n",
    "    ).add_to(m)\n",
    "    \n",
    "m.save(\"collegeMatch.html\")"
   ]
  },
  {
   "cell_type": "code",
   "execution_count": 43,
   "metadata": {},
   "outputs": [
    {
     "name": "stdout",
     "output_type": "stream",
     "text": [
      "0\n"
     ]
    }
   ],
   "source": [
    "# 0.6 is the magic number\n",
    "g = open('collegeBID.json')\n",
    "yelpdata = json.load(g)\n",
    "id_list = list(yelpdata.keys())\n",
    "biz = yelpdata[id_list[34]]\n",
    "name = biz['name']\n",
    "counter = 0\n",
    "for entry in nameSet:\n",
    "    ratio = fuzMatch(entry, name)\n",
    "    if ratio > 0.6:\n",
    "        counter += 1\n",
    "print(counter)"
   ]
  },
  {
   "cell_type": "code",
   "execution_count": null,
   "metadata": {},
   "outputs": [],
   "source": []
  }
 ],
 "metadata": {
  "kernelspec": {
   "display_name": "Python 3",
   "language": "python",
   "name": "python3"
  },
  "language_info": {
   "codemirror_mode": {
    "name": "ipython",
    "version": 3
   },
   "file_extension": ".py",
   "mimetype": "text/x-python",
   "name": "python",
   "nbconvert_exporter": "python",
   "pygments_lexer": "ipython3",
   "version": "3.8.5"
  }
 },
 "nbformat": 4,
 "nbformat_minor": 4
}
